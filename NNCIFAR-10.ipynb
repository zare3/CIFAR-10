{
 "metadata": {
  "language": "lua",
  "name": "",
  "signature": "sha256:b98d90b834bb5d74affb52a07442b633c960f60a2afa0bdc63ff6fdf0cacafc8"
 },
 "nbformat": 3,
 "nbformat_minor": 0,
 "worksheets": [
  {
   "cells": [
    {
     "cell_type": "code",
     "collapsed": false,
     "input": [
      "require 'cutorch'\n",
      "require 'nn'\n",
      "require 'cunn'\n",
      "require 'cudnn'\n",
      "require 'image'\n"
     ],
     "language": "python",
     "metadata": {},
     "outputs": [],
     "prompt_number": 1
    },
    {
     "cell_type": "code",
     "collapsed": false,
     "input": [
      "-- trainset = torch.load('/home/omar/Desktop/cifar10-train.t7')\n",
      "-- testset = torch.load('/home/omar/Desktop/cifar10-test.t7')\n",
      "-- classes = {'airplane', 'automobile', 'bird', 'cat',\n",
      "--           'deer', 'dog', 'frog', 'horse', 'ship', 'truck'}\n",
      "\n",
      "\n",
      "local trsize = 50000\n",
      "local tesize = 10000\n",
      "\n",
      "-- load dataset\n",
      "trainset = {\n",
      "    data = torch.Tensor(50000, 3 * 32 * 32),\n",
      "    labels = torch.Tensor(50000),\n",
      "    size = function() return trsize end\n",
      "}\n",
      "for i = 0,4 do\n",
      "    local subset = torch.load('/home/omar/Desktop/cifar-10-batches-t7/data_batch_' .. (i+1) .. '.t7', 'ascii')\n",
      "    trainset.data[{ {i*10000+1, (i+1)*10000} }] = subset.data:t()\n",
      "    trainset.labels[{ {i*10000+1, (i+1)*10000} }] = subset.labels\n",
      "end\n",
      "trainset.labels = trainset.labels + 1\n",
      "\n",
      "\n",
      "\n",
      "\n",
      "subset = torch.load('/home/omar/Desktop/cifar-10-batches-t7/test_batch.t7', 'ascii')\n",
      "testset = {\n",
      "    data = subset.data:t():double(),\n",
      "    labels = subset.labels[1]:double(),\n",
      "    size = function() return tesize end\n",
      "}\n",
      "testset.labels = testset.labels + 1\n",
      "\n",
      "\n",
      "-- resize dataset (if using small version)\n",
      "trainset.data = trainset.data[{ {1,trsize} }]\n",
      "trainset.labels = trainset.labels[{ {1,trsize} }]\n",
      "testset.data = testset.data[{ {1,tesize} }]\n",
      "testset.labels = testset.labels[{ {1,tesize} }]\n",
      "-- reshape data\n",
      "trainset.data = trainset.data:reshape(trsize,3,32,32)\n",
      "testset.data = testset.data:reshape(tesize,3,32,32)\n",
      "\n",
      "\n",
      "\n",
      "\n",
      "\n",
      "\n",
      "\n",
      "print('Training Data:')\n",
      "print(trainset)\n",
      "print()\n",
      "print('Test Data:')\n",
      "print(testset)\n",
      "print()"
     ],
     "language": "python",
     "metadata": {},
     "outputs": [
      {
       "metadata": {},
       "output_type": "pyout",
       "prompt_number": 2,
       "text": [
        "Training Data:\t\n",
        "{\n",
        "  data : DoubleTensor - size: 50000x3x32x32\n",
        "  size : function: 0x4083e868\n",
        "  labels : DoubleTensor - size: 50000\n",
        "}\n",
        "\n",
        "Test Data:\t\n",
        "{\n",
        "  data : DoubleTensor - size: 10000x3x32x32\n",
        "  size : function: 0x40842710\n",
        "  labels : DoubleTensor - size: 10000\n",
        "}\n",
        "\n"
       ]
      }
     ],
     "prompt_number": 2
    },
    {
     "cell_type": "code",
     "collapsed": false,
     "input": [
      "-- ignore setmetatable for now, it is a feature beyond the scope of this tutorial. It sets the index operator.\n",
      "setmetatable(trainset, \n",
      "    {__index = function(t, i) \n",
      "                    return {t.data[i], t.labels[i]} \n",
      "                end}\n",
      ");\n",
      "trainset.data = trainset.data:double() -- convert the data from a ByteTensor to a DoubleTensor.\n",
      "\n",
      "function trainset:size() \n",
      "    return self.data:size(1) \n",
      "end\n",
      "\n",
      "\n",
      "\n",
      "\n",
      "\n",
      "-- ignore setmetatable for now, it is a feature beyond the scope of this tutorial. It sets the index operator.\n",
      "setmetatable(testset, \n",
      "    {__index = function(t, i) \n",
      "                    return {t.data[i], t.labels[i]} \n",
      "                end}\n",
      ");\n",
      "testset.data = testset.data:double() -- convert the data from a ByteTensor to a DoubleTensor.\n",
      "\n",
      "function testset:size() \n",
      "    return self.data:size(1) \n",
      "end"
     ],
     "language": "python",
     "metadata": {},
     "outputs": [],
     "prompt_number": 3
    },
    {
     "cell_type": "code",
     "collapsed": false,
     "input": [
      "for i = 1,trainset:size() do\n",
      "    -- rgb -> yuv\n",
      "    trainset.data[i] = image.rgb2yuv(trainset.data[i])\n",
      "end\n",
      "\n",
      "for i = 1,testset:size() do\n",
      "    -- rgb -> yuv\n",
      "    testset.data[i] = image.rgb2yuv(testset.data[i])\n",
      "end"
     ],
     "language": "python",
     "metadata": {},
     "outputs": [],
     "prompt_number": 4
    },
    {
     "cell_type": "code",
     "collapsed": false,
     "input": [
      "-- print (trainset)\n",
      "itorch.image(trainset.data[10000])\n",
      "itorch.image(trainset.data[8725])\n",
      "itorch.image(trainset.data[1065])\n",
      "itorch.image(trainset.data[{ {40000,40003} }])"
     ],
     "language": "python",
     "metadata": {},
     "outputs": [
      {
       "metadata": {
        "png": {
         "height": 32,
         "width": 32
        }
       },
       "output_type": "display_data",
       "png": "[encoded data removed]",
       "text": [
        "Console does not support images"
       ]
      },
      {
       "metadata": {
        "png": {
         "height": 32,
         "width": 32
        }
       },
       "output_type": "display_data",
       "png": "[encoded data removed]",
       "text": [
        "Console does not support images"
       ]
      },
      {
       "metadata": {
        "png": {
         "height": 32,
         "width": 32
        }
       },
       "output_type": "display_data",
       "png": "[encoded data removed]",
       "text": [
        "Console does not support images"
       ]
      },
      {
       "metadata": {
        "png": {
         "height": 34,
         "width": 136
        }
       },
       "output_type": "display_data",
       "png": "[encoded data removed]",
       "text": [
        "Console does not support images"
       ]
      }
     ],
     "prompt_number": 5
    },
    {
     "cell_type": "code",
     "collapsed": false,
     "input": [
      "mean = {} -- store the mean, to normalize the test set in the future\n",
      "stdv  = {} -- store the standard-deviation for the future\n",
      "for i=1,3 do -- over each image channel\n",
      "    mean[i] = trainset.data[{ {}, {i}, {}, {}  }]:mean() -- mean estimation\n",
      "    print('Channel ' .. i .. ', Mean: ' .. mean[i])\n",
      "    trainset.data[{ {}, {i}, {}, {}  }]:add(-mean[i]) -- mean subtraction\n",
      "    \n",
      "    stdv[i] = trainset.data[{ {}, {i}, {}, {}  }]:std() -- std estimation\n",
      "    print('Channel ' .. i .. ', Standard Deviation: ' .. stdv[i])\n",
      "    trainset.data[{ {}, {i}, {}, {}  }]:div(stdv[i]) -- std scaling\n",
      "end"
     ],
     "language": "python",
     "metadata": {},
     "outputs": [
      {
       "metadata": {},
       "output_type": "pyout",
       "prompt_number": 6,
       "text": [
        "Channel 1, Mean: 122.61930353943\t\n"
       ]
      },
      {
       "metadata": {},
       "output_type": "pyout",
       "prompt_number": 6,
       "text": [
        "Channel 1, Standard Deviation: 60.992137196504\t\n"
       ]
      },
      {
       "metadata": {},
       "output_type": "pyout",
       "prompt_number": 6,
       "text": [
        "Channel 2, Mean: -4.3065506356254\t\n"
       ]
      },
      {
       "metadata": {},
       "output_type": "pyout",
       "prompt_number": 6,
       "text": [
        "Channel 2, Standard Deviation: 13.663213704239\t\n"
       ]
      },
      {
       "metadata": {},
       "output_type": "pyout",
       "prompt_number": 6,
       "text": [
        "Channel 3, Mean: 2.3578541481531\t\n"
       ]
      },
      {
       "metadata": {},
       "output_type": "pyout",
       "prompt_number": 6,
       "text": [
        "Channel 3, Standard Deviation: 17.067521638108\t\n"
       ]
      }
     ],
     "prompt_number": 6
    },
    {
     "cell_type": "code",
     "collapsed": false,
     "input": [
      "testset.data = testset.data:double()   -- convert from Byte tensor to Double tensor\n",
      "for i=1,3 do -- over each image channel\n",
      "    testset.data[{ {}, {i}, {}, {}  }]:add(-mean[i]) -- mean subtraction    \n",
      "    testset.data[{ {}, {i}, {}, {}  }]:div(stdv[i]) -- std scaling\n",
      "end"
     ],
     "language": "python",
     "metadata": {},
     "outputs": [],
     "prompt_number": 7
    },
    {
     "cell_type": "code",
     "collapsed": false,
     "input": [
      "net = nn.Sequential()\n",
      "    net:add(cudnn.SpatialConvolution(3, 64, 3, 3, 1, 1, 1, 1)) -- 3 input image channels, 64 output channels, 3x3 convolution kernel\\n\",\n",
      "    net:add(nn.Dropout(0.3))\n",
      "    net:add(cudnn.ReLU(true))\n",
      "    net:add(cudnn.SpatialConvolution(64, 64, 3, 3, 1, 1, 1, 1))\n",
      "    net:add(cudnn.ReLU(true))\n",
      "net:add(cudnn.SpatialMaxPooling(2,2,2,2))     -- A max-pooling operation that looks at 2x2 windows and finds the max.\\n\",\n",
      "    \n",
      "    -- 64 x 16 x 16\n",
      "    \n",
      "    net:add(cudnn.SpatialConvolution(64, 128, 3, 3, 1, 1, 1, 1))\n",
      "    net:add(cudnn.ReLU(true))\n",
      "    net:add(nn.Dropout(0.4))\n",
      "    net:add(cudnn.SpatialConvolution(128, 128, 3, 3, 1, 1, 1, 1))\n",
      "    net:add(cudnn.ReLU(true))\n",
      "    net:add(cudnn.SpatialMaxPooling(2,2,2,2))\n",
      "    -- 128*8*8\n",
      "    \n",
      "    net:add(cudnn.SpatialConvolution(128, 256, 3, 3, 1, 1, 1, 1))\n",
      "    net:add(cudnn.ReLU(true))\n",
      "    net:add(nn.Dropout(0.4))\n",
      "    net:add(cudnn.SpatialConvolution(256, 256, 3, 3, 1, 1, 1, 1))\n",
      "    net:add(cudnn.ReLU(true))\n",
      "    net:add(cudnn.SpatialMaxPooling(4,4,4,4))\n",
      "    \n",
      "    -- 256*2*2\n",
      "    \n",
      "    net:add(nn.View(256*2*2))\n",
      "    net:add(nn.Dropout(0.5))\n",
      "    net:add(nn.Linear(256*2*2, 256))             -- fully connected layer (matrix multiplication between input and weights)\\n\",\n",
      "    net:add(cudnn.ReLU(true))\n",
      "    net:add(nn.Dropout(0.5))\n",
      "    net:add(nn.Linear(256, 10))                  -- 10 is the number of outputs of the network (in this case, 10 digits)\\n\",\n",
      "    net:add(nn.LogSoftMax())                     -- converts the output to a log-probability. Useful for classification problems\""
     ],
     "language": "python",
     "metadata": {},
     "outputs": [],
     "prompt_number": 8
    },
    {
     "cell_type": "code",
     "collapsed": false,
     "input": [
      "criterion = nn.ClassNLLCriterion()\n",
      "net = net:cuda()\n",
      "criterion = criterion:cuda()\n",
      "trainset.data = trainset.data:cuda()\n",
      "trainer = nn.StochasticGradient(net, criterion)\n",
      "trainer.learningRate = 0.001\n",
      "trainer.maxIteration = 50 -- just do 30 epochs of training.\n",
      "trainer:train(trainset)"
     ],
     "language": "python",
     "metadata": {},
     "outputs": [
      {
       "metadata": {},
       "output_type": "pyout",
       "prompt_number": 9,
       "text": [
        "# StochasticGradient: training\t\n"
       ]
      },
      {
       "metadata": {},
       "output_type": "pyout",
       "prompt_number": 9,
       "text": [
        "# current error = 2.0583485699153\t\n"
       ]
      },
      {
       "metadata": {},
       "output_type": "pyout",
       "prompt_number": 9,
       "text": [
        "# current error = 1.6835923739052\t\n"
       ]
      },
      {
       "metadata": {},
       "output_type": "pyout",
       "prompt_number": 9,
       "text": [
        "# current error = 1.4657709204316\t\n"
       ]
      },
      {
       "metadata": {},
       "output_type": "pyout",
       "prompt_number": 9,
       "text": [
        "# current error = 1.3051061784053\t\n"
       ]
      },
      {
       "metadata": {},
       "output_type": "pyout",
       "prompt_number": 9,
       "text": [
        "# current error = 1.1670841680455\t\n"
       ]
      },
      {
       "metadata": {},
       "output_type": "pyout",
       "prompt_number": 9,
       "text": [
        "# current error = 1.0489776563692\t\n"
       ]
      },
      {
       "metadata": {},
       "output_type": "pyout",
       "prompt_number": 9,
       "text": [
        "# current error = 0.95025566230774\t\n"
       ]
      },
      {
       "metadata": {},
       "output_type": "pyout",
       "prompt_number": 9,
       "text": [
        "# current error = 0.87740095878839\t\n"
       ]
      },
      {
       "metadata": {},
       "output_type": "pyout",
       "prompt_number": 9,
       "text": [
        "# current error = 0.79835570995569\t\n"
       ]
      },
      {
       "metadata": {},
       "output_type": "pyout",
       "prompt_number": 9,
       "text": [
        "# current error = 0.74247495220423\t\n"
       ]
      },
      {
       "metadata": {},
       "output_type": "pyout",
       "prompt_number": 9,
       "text": [
        "# current error = 0.69091272251606\t\n"
       ]
      },
      {
       "metadata": {},
       "output_type": "pyout",
       "prompt_number": 9,
       "text": [
        "# current error = 0.65085515473843\t\n"
       ]
      },
      {
       "metadata": {},
       "output_type": "pyout",
       "prompt_number": 9,
       "text": [
        "# current error = 0.60924413268566\t\n"
       ]
      },
      {
       "metadata": {},
       "output_type": "pyout",
       "prompt_number": 9,
       "text": [
        "# current error = 0.58096205244303\t\n"
       ]
      },
      {
       "metadata": {},
       "output_type": "pyout",
       "prompt_number": 9,
       "text": [
        "# current error = 0.55505596709013\t\n"
       ]
      },
      {
       "metadata": {},
       "output_type": "pyout",
       "prompt_number": 9,
       "text": [
        "# current error = 0.52814020651817\t\n"
       ]
      },
      {
       "metadata": {},
       "output_type": "pyout",
       "prompt_number": 9,
       "text": [
        "# current error = 0.50457874693155\t\n"
       ]
      },
      {
       "metadata": {},
       "output_type": "pyout",
       "prompt_number": 9,
       "text": [
        "# current error = 0.48341403104305\t\n"
       ]
      },
      {
       "metadata": {},
       "output_type": "pyout",
       "prompt_number": 9,
       "text": [
        "# current error = 0.46083798635244\t\n"
       ]
      },
      {
       "metadata": {},
       "output_type": "pyout",
       "prompt_number": 9,
       "text": [
        "# current error = 0.44957858628988\t\n"
       ]
      },
      {
       "metadata": {},
       "output_type": "pyout",
       "prompt_number": 9,
       "text": [
        "# current error = 0.43539775047779\t\n"
       ]
      },
      {
       "metadata": {},
       "output_type": "pyout",
       "prompt_number": 9,
       "text": [
        "# current error = 0.41959685134411\t\n"
       ]
      },
      {
       "metadata": {},
       "output_type": "pyout",
       "prompt_number": 9,
       "text": [
        "# current error = 0.40510522945166\t\n"
       ]
      },
      {
       "metadata": {},
       "output_type": "pyout",
       "prompt_number": 9,
       "text": [
        "# current error = 0.39191530995607\t\n"
       ]
      },
      {
       "metadata": {},
       "output_type": "pyout",
       "prompt_number": 9,
       "text": [
        "# current error = 0.38642079803705\t\n"
       ]
      },
      {
       "metadata": {},
       "output_type": "pyout",
       "prompt_number": 9,
       "text": [
        "# current error = 0.37170931105375\t\n"
       ]
      },
      {
       "metadata": {},
       "output_type": "pyout",
       "prompt_number": 9,
       "text": [
        "# current error = 0.36408291218996\t\n"
       ]
      },
      {
       "metadata": {},
       "output_type": "pyout",
       "prompt_number": 9,
       "text": [
        "# current error = 0.35395842438459\t\n"
       ]
      },
      {
       "metadata": {},
       "output_type": "pyout",
       "prompt_number": 9,
       "text": [
        "# current error = 0.34392052089214\t\n"
       ]
      },
      {
       "metadata": {},
       "output_type": "pyout",
       "prompt_number": 9,
       "text": [
        "# current error = 0.33828469476938\t\n"
       ]
      },
      {
       "metadata": {},
       "output_type": "pyout",
       "prompt_number": 9,
       "text": [
        "# current error = 0.33396757560015\t\n"
       ]
      },
      {
       "metadata": {},
       "output_type": "pyout",
       "prompt_number": 9,
       "text": [
        "# current error = 0.32365186531544\t\n"
       ]
      },
      {
       "metadata": {},
       "output_type": "pyout",
       "prompt_number": 9,
       "text": [
        "# current error = 0.31483189263344\t\n"
       ]
      },
      {
       "metadata": {},
       "output_type": "pyout",
       "prompt_number": 9,
       "text": [
        "# current error = 0.31378469856262\t\n"
       ]
      },
      {
       "metadata": {},
       "output_type": "pyout",
       "prompt_number": 9,
       "text": [
        "# current error = 0.30787758008957\t\n"
       ]
      },
      {
       "metadata": {},
       "output_type": "pyout",
       "prompt_number": 9,
       "text": [
        "# current error = 0.30100666034698\t\n"
       ]
      },
      {
       "metadata": {},
       "output_type": "pyout",
       "prompt_number": 9,
       "text": [
        "# current error = 0.30038995398283\t\n"
       ]
      },
      {
       "metadata": {},
       "output_type": "pyout",
       "prompt_number": 9,
       "text": [
        "# current error = 0.29118838137388\t\n"
       ]
      },
      {
       "metadata": {},
       "output_type": "pyout",
       "prompt_number": 9,
       "text": [
        "# current error = 0.28930719283819\t\n"
       ]
      },
      {
       "metadata": {},
       "output_type": "pyout",
       "prompt_number": 9,
       "text": [
        "# current error = 0.28654311967611\t\n"
       ]
      },
      {
       "metadata": {},
       "output_type": "pyout",
       "prompt_number": 9,
       "text": [
        "# current error = 0.28350519685507\t\n"
       ]
      },
      {
       "metadata": {},
       "output_type": "pyout",
       "prompt_number": 9,
       "text": [
        "# current error = 0.27876933116436\t\n"
       ]
      },
      {
       "metadata": {},
       "output_type": "pyout",
       "prompt_number": 9,
       "text": [
        "# current error = 0.27613660802126\t\n"
       ]
      },
      {
       "metadata": {},
       "output_type": "pyout",
       "prompt_number": 9,
       "text": [
        "# current error = 0.27318189865828\t\n"
       ]
      },
      {
       "metadata": {},
       "output_type": "pyout",
       "prompt_number": 9,
       "text": [
        "# current error = 0.26773030429602\t\n"
       ]
      },
      {
       "metadata": {},
       "output_type": "pyout",
       "prompt_number": 9,
       "text": [
        "# current error = 0.26488821339846\t\n"
       ]
      },
      {
       "metadata": {},
       "output_type": "pyout",
       "prompt_number": 9,
       "text": [
        "# current error = 0.26346064607382\t\n"
       ]
      },
      {
       "metadata": {},
       "output_type": "pyout",
       "prompt_number": 9,
       "text": [
        "# current error = 0.25823756268978\t\n"
       ]
      },
      {
       "metadata": {},
       "output_type": "pyout",
       "prompt_number": 9,
       "text": [
        "# current error = 0.25604414771557\t\n"
       ]
      },
      {
       "metadata": {},
       "output_type": "pyout",
       "prompt_number": 9,
       "text": [
        "# current error = 0.25263269651413\t\n",
        "# StochasticGradient: you have reached the maximum number of iterations\t\n",
        "# training error = 0.25263269651413\t\n"
       ]
      }
     ],
     "prompt_number": 9
    },
    {
     "cell_type": "code",
     "collapsed": false,
     "input": [
      "correct = 0\n",
      "for i=1,10000 do\n",
      "    local groundtruth = testset.labels[i]\n",
      "    local prediction = net:forward(testset.data[i]:cuda())\n",
      "    local confidences, indices = torch.sort(prediction, true)  -- true means sort in descending order\n",
      "    if groundtruth == indices[1] then\n",
      "        correct = correct + 1\n",
      "    end\n",
      "end\n",
      "\n",
      "print(correct, 100*correct/10000 .. ' % ')"
     ],
     "language": "python",
     "metadata": {},
     "outputs": [
      {
       "metadata": {},
       "output_type": "pyout",
       "prompt_number": 10,
       "text": [
        "8292\t82.92 % \t\n"
       ]
      }
     ],
     "prompt_number": 10
    },
    {
     "cell_type": "code",
     "collapsed": false,
     "input": [],
     "language": "python",
     "metadata": {},
     "outputs": []
    }
   ],
   "metadata": {}
  }
 ]
}